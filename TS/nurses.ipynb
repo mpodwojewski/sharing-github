{
 "cells": [
  {
   "cell_type": "code",
   "execution_count": 1,
   "metadata": {},
   "outputs": [],
   "source": [
    "#install.packages(c(\"ggplot2\", \"gridExtra\", \"gtable\", \"grid\", \"tidyr\", \"dplyr\", \"data.table\", \"tidyverse\", \"forecast\", \"xts\", \"zoo\"))"
   ]
  },
  {
   "cell_type": "code",
   "execution_count": 2,
   "metadata": {},
   "outputs": [
    {
     "name": "stderr",
     "output_type": "stream",
     "text": [
      "Warning message:\n",
      "\"package 'gridExtra' was built under R version 3.6.3\"Warning message:\n",
      "\"package 'gtable' was built under R version 3.6.3\"Warning message:\n",
      "\"package 'tidyr' was built under R version 3.6.3\"Warning message:\n",
      "\"package 'dplyr' was built under R version 3.6.3\"\n",
      "Attaching package: 'dplyr'\n",
      "\n",
      "The following object is masked from 'package:gridExtra':\n",
      "\n",
      "    combine\n",
      "\n",
      "The following objects are masked from 'package:stats':\n",
      "\n",
      "    filter, lag\n",
      "\n",
      "The following objects are masked from 'package:base':\n",
      "\n",
      "    intersect, setdiff, setequal, union\n",
      "\n",
      "Warning message:\n",
      "\"package 'data.table' was built under R version 3.6.3\"\n",
      "Attaching package: 'data.table'\n",
      "\n",
      "The following objects are masked from 'package:dplyr':\n",
      "\n",
      "    between, first, last\n",
      "\n",
      "Warning message:\n",
      "\"package 'tidyverse' was built under R version 3.6.3\"-- Attaching packages --------------------------------------- tidyverse 1.3.0 --\n",
      "<U+221A> tibble  3.0.1     <U+221A> stringr 1.4.0\n",
      "<U+221A> readr   1.3.1     <U+221A> forcats 0.5.0\n",
      "<U+221A> purrr   0.3.4     \n",
      "Warning message:\n",
      "\"package 'tibble' was built under R version 3.6.3\"Warning message:\n",
      "\"package 'readr' was built under R version 3.6.3\"Warning message:\n",
      "\"package 'purrr' was built under R version 3.6.3\"Warning message:\n",
      "\"package 'stringr' was built under R version 3.6.3\"Warning message:\n",
      "\"package 'forcats' was built under R version 3.6.3\"-- Conflicts ------------------------------------------ tidyverse_conflicts() --\n",
      "x data.table::between() masks dplyr::between()\n",
      "x dplyr::combine()      masks gridExtra::combine()\n",
      "x dplyr::filter()       masks stats::filter()\n",
      "x data.table::first()   masks dplyr::first()\n",
      "x dplyr::lag()          masks stats::lag()\n",
      "x data.table::last()    masks dplyr::last()\n",
      "x purrr::transpose()    masks data.table::transpose()\n",
      "Warning message:\n",
      "\"package 'forecast' was built under R version 3.6.3\"Registered S3 method overwritten by 'quantmod':\n",
      "  method            from\n",
      "  as.zoo.data.frame zoo \n",
      "Warning message:\n",
      "\"package 'xts' was built under R version 3.6.3\"Loading required package: zoo\n",
      "Warning message:\n",
      "\"package 'zoo' was built under R version 3.6.3\"\n",
      "Attaching package: 'zoo'\n",
      "\n",
      "The following objects are masked from 'package:base':\n",
      "\n",
      "    as.Date, as.Date.numeric\n",
      "\n",
      "\n",
      "Attaching package: 'xts'\n",
      "\n",
      "The following objects are masked from 'package:data.table':\n",
      "\n",
      "    first, last\n",
      "\n",
      "The following objects are masked from 'package:dplyr':\n",
      "\n",
      "    first, last\n",
      "\n"
     ]
    }
   ],
   "source": [
    "library(ggplot2)\n",
    "library(gridExtra)\n",
    "library(gtable)\n",
    "library(grid)\n",
    "library(tidyr)\n",
    "library(dplyr)\n",
    "library(data.table)\n",
    "library(tidyverse)\n",
    "library(forecast)\n",
    "library(xts)\n",
    "library(zoo)"
   ]
  },
  {
   "cell_type": "markdown",
   "metadata": {},
   "source": [
    "# CZĘŚĆ PIERWSZA - PROGNOZA LICZBY NOWYCH LICENCJI WYKONYWANIA ZAWODU PIELĘGNIARKI I POŁOŻNEJ"
   ]
  },
  {
   "cell_type": "markdown",
   "metadata": {},
   "source": [
    "Wczytano dane o strukturze liczbie wydanych uprawnień do wykonywania zawodu pielęgniarki i położnej z lat 2005-2018."
   ]
  },
  {
   "cell_type": "code",
   "execution_count": 3,
   "metadata": {},
   "outputs": [
    {
     "name": "stdout",
     "output_type": "stream",
     "text": [
      "'data.frame':\t14 obs. of  2 variables:\n",
      " $ date : Date, format: \"2005-01-01\" \"2006-01-01\" ...\n",
      " $ count: int  7219 7133 5280 5370 5186 4434 3510 3655 3480 4202 ...\n"
     ]
    },
    {
     "data": {
      "text/html": [
       "<table>\n",
       "<thead><tr><th scope=col>date</th><th scope=col>count</th></tr></thead>\n",
       "<tbody>\n",
       "\t<tr><td>2005-01-01</td><td>7219      </td></tr>\n",
       "\t<tr><td>2006-01-01</td><td>7133      </td></tr>\n",
       "\t<tr><td>2007-01-01</td><td>5280      </td></tr>\n",
       "\t<tr><td>2008-01-01</td><td>5370      </td></tr>\n",
       "\t<tr><td>2009-01-01</td><td>5186      </td></tr>\n",
       "\t<tr><td>2010-01-01</td><td>4434      </td></tr>\n",
       "\t<tr><td>2011-01-01</td><td>3510      </td></tr>\n",
       "\t<tr><td>2012-01-01</td><td>3655      </td></tr>\n",
       "\t<tr><td>2013-01-01</td><td>3480      </td></tr>\n",
       "\t<tr><td>2014-01-01</td><td>4202      </td></tr>\n",
       "\t<tr><td>2015-01-01</td><td>4480      </td></tr>\n",
       "\t<tr><td>2016-01-01</td><td>4779      </td></tr>\n",
       "\t<tr><td>2017-01-01</td><td>5033      </td></tr>\n",
       "\t<tr><td>2018-01-01</td><td>5487      </td></tr>\n",
       "</tbody>\n",
       "</table>\n"
      ],
      "text/latex": [
       "\\begin{tabular}{r|ll}\n",
       " date & count\\\\\n",
       "\\hline\n",
       "\t 2005-01-01 & 7219      \\\\\n",
       "\t 2006-01-01 & 7133      \\\\\n",
       "\t 2007-01-01 & 5280      \\\\\n",
       "\t 2008-01-01 & 5370      \\\\\n",
       "\t 2009-01-01 & 5186      \\\\\n",
       "\t 2010-01-01 & 4434      \\\\\n",
       "\t 2011-01-01 & 3510      \\\\\n",
       "\t 2012-01-01 & 3655      \\\\\n",
       "\t 2013-01-01 & 3480      \\\\\n",
       "\t 2014-01-01 & 4202      \\\\\n",
       "\t 2015-01-01 & 4480      \\\\\n",
       "\t 2016-01-01 & 4779      \\\\\n",
       "\t 2017-01-01 & 5033      \\\\\n",
       "\t 2018-01-01 & 5487      \\\\\n",
       "\\end{tabular}\n"
      ],
      "text/markdown": [
       "\n",
       "| date | count |\n",
       "|---|---|\n",
       "| 2005-01-01 | 7219       |\n",
       "| 2006-01-01 | 7133       |\n",
       "| 2007-01-01 | 5280       |\n",
       "| 2008-01-01 | 5370       |\n",
       "| 2009-01-01 | 5186       |\n",
       "| 2010-01-01 | 4434       |\n",
       "| 2011-01-01 | 3510       |\n",
       "| 2012-01-01 | 3655       |\n",
       "| 2013-01-01 | 3480       |\n",
       "| 2014-01-01 | 4202       |\n",
       "| 2015-01-01 | 4480       |\n",
       "| 2016-01-01 | 4779       |\n",
       "| 2017-01-01 | 5033       |\n",
       "| 2018-01-01 | 5487       |\n",
       "\n"
      ],
      "text/plain": [
       "   date       count\n",
       "1  2005-01-01 7219 \n",
       "2  2006-01-01 7133 \n",
       "3  2007-01-01 5280 \n",
       "4  2008-01-01 5370 \n",
       "5  2009-01-01 5186 \n",
       "6  2010-01-01 4434 \n",
       "7  2011-01-01 3510 \n",
       "8  2012-01-01 3655 \n",
       "9  2013-01-01 3480 \n",
       "10 2014-01-01 4202 \n",
       "11 2015-01-01 4480 \n",
       "12 2016-01-01 4779 \n",
       "13 2017-01-01 5033 \n",
       "14 2018-01-01 5487 "
      ]
     },
     "metadata": {},
     "output_type": "display_data"
    },
    {
     "data": {
      "image/png": "[encoded data removed]",
      "text/plain": [
       "plot without title"
      ]
     },
     "metadata": {},
     "output_type": "display_data"
    }
   ],
   "source": [
    "licences <- read.csv2('licences_given.csv')\n",
    "licences$date <- as.Date(licences$date)\n",
    "str(licences)\n",
    "\n",
    "licences\n",
    "\n",
    "ggplot(licences, aes(date, count)) +\n",
    "geom_point() +\n",
    "geom_line() +\n",
    "xlab(\"Lata\") +\n",
    "ylab(\"Liczba\") +\n",
    "theme_minimal()"
   ]
  },
  {
   "cell_type": "markdown",
   "metadata": {},
   "source": [
    "Stworzono szereg czsowy i dokonano interpolacji danych w przedziałach miesięcznych."
   ]
  },
  {
   "cell_type": "code",
   "execution_count": 4,
   "metadata": {},
   "outputs": [
    {
     "data": {
      "image/png": "[encoded data removed]",
      "text/plain": [
       "Plot with title \"\""
      ]
     },
     "metadata": {},
     "output_type": "display_data"
    }
   ],
   "source": [
    "time <- as.POSIXct(licences$date, format = '%Y-%m-%d')\n",
    "licences_xts <- xts(licences$count, order.by = time)\n",
    "dates <- data.frame(format(seq(as.POSIXct(\"2005-01-01\"), by=\"month\", length.out=14*12), \"%Y-%m-%d\"))\n",
    "colnames(dates) <- 'date'\n",
    "dates$date <- as.Date(dates$date)\n",
    "interpolated <- merge(x = dates, y = licences, by = \"date\", all = TRUE)\n",
    "interpolated$date <- as.integer(interpolated$date)\n",
    "interpolated <- data.frame(na.spline(interpolated, na.rm = FALSE))\n",
    "interpolated$date <- as.Date(interpolated$date)\n",
    "time <- as.POSIXct(interpolated$date, format = '%Y-%m-%d')\n",
    "interpolated_xts <- xts(interpolated$count, order.by = time)\n",
    "tsdisplay(interpolated_xts)"
   ]
  },
  {
   "cell_type": "markdown",
   "metadata": {},
   "source": [
    "Wybór nalepszego modelu arima pod względem kryterium informacyjnego Akaikego."
   ]
  },
  {
   "cell_type": "code",
   "execution_count": 5,
   "metadata": {},
   "outputs": [
    {
     "name": "stdout",
     "output_type": "stream",
     "text": [
      "\n",
      " Fitting models using approximations to speed things up...\n",
      "\n",
      " ARIMA(2,2,2)                    : 222.9779\n",
      " ARIMA(0,2,0)                    : 1232.181\n",
      " ARIMA(1,2,0)                    : 616.0684\n",
      " ARIMA(0,2,1)                    : 1070.563\n",
      " ARIMA(1,2,2)                    : 342.4799\n",
      " ARIMA(2,2,1)                    : 221.1374\n",
      " ARIMA(1,2,1)                    : Inf\n",
      " ARIMA(2,2,0)                    : 251.6362\n",
      " ARIMA(3,2,1)                    : Inf\n",
      " ARIMA(3,2,0)                    : 224.9122\n",
      " ARIMA(3,2,2)                    : 213.0244\n",
      " ARIMA(4,2,2)                    : 220.1927\n",
      " ARIMA(3,2,3)                    : Inf\n",
      " ARIMA(2,2,3)                    : 224.8253\n",
      " ARIMA(4,2,1)                    : 225.2446\n",
      " ARIMA(4,2,3)                    : 206.5408\n",
      " ARIMA(5,2,3)                    : Inf\n",
      " ARIMA(4,2,4)                    : Inf\n",
      " ARIMA(3,2,4)                    : 231.504\n",
      " ARIMA(5,2,2)                    : Inf\n",
      " ARIMA(5,2,4)                    : Inf\n",
      "\n",
      " Now re-fitting the best model(s) without approximations...\n",
      "\n",
      " ARIMA(4,2,3)                    : 262.0799\n",
      "\n",
      " Best model: ARIMA(4,2,3)                    \n",
      "\n"
     ]
    }
   ],
   "source": [
    "licences_fit = auto.arima(interpolated_xts, ic = \"aic\", trace = TRUE)"
   ]
  },
  {
   "cell_type": "markdown",
   "metadata": {},
   "source": [
    "Sprawdzono trafność najlepszego modelu."
   ]
  },
  {
   "cell_type": "code",
   "execution_count": 6,
   "metadata": {},
   "outputs": [
    {
     "data": {
      "text/html": [
       "<table>\n",
       "<thead><tr><th></th><th scope=col>ME</th><th scope=col>RMSE</th><th scope=col>MAE</th><th scope=col>MPE</th><th scope=col>MAPE</th><th scope=col>MASE</th><th scope=col>ACF1</th></tr></thead>\n",
       "<tbody>\n",
       "\t<tr><th scope=row>Training set</th><td>-0.03223938  </td><td>0.9059078    </td><td>0.3394591    </td><td>-0.0002353032</td><td>0.006760883  </td><td>6.891339e-05 </td><td>-0.0933019   </td></tr>\n",
       "</tbody>\n",
       "</table>\n"
      ],
      "text/latex": [
       "\\begin{tabular}{r|lllllll}\n",
       "  & ME & RMSE & MAE & MPE & MAPE & MASE & ACF1\\\\\n",
       "\\hline\n",
       "\tTraining set & -0.03223938   & 0.9059078     & 0.3394591     & -0.0002353032 & 0.006760883   & 6.891339e-05  & -0.0933019   \\\\\n",
       "\\end{tabular}\n"
      ],
      "text/markdown": [
       "\n",
       "| <!--/--> | ME | RMSE | MAE | MPE | MAPE | MASE | ACF1 |\n",
       "|---|---|---|---|---|---|---|---|\n",
       "| Training set | -0.03223938   | 0.9059078     | 0.3394591     | -0.0002353032 | 0.006760883   | 6.891339e-05  | -0.0933019    |\n",
       "\n"
      ],
      "text/plain": [
       "             ME          RMSE      MAE       MPE           MAPE       \n",
       "Training set -0.03223938 0.9059078 0.3394591 -0.0002353032 0.006760883\n",
       "             MASE         ACF1      \n",
       "Training set 6.891339e-05 -0.0933019"
      ]
     },
     "metadata": {},
     "output_type": "display_data"
    }
   ],
   "source": [
    "accuracy(licences_fit)"
   ]
  },
  {
   "cell_type": "markdown",
   "metadata": {},
   "source": [
    "Wykonano test Ljunga-Boxa w celu sprawdzenia hipotezy o brak autokorelacji danych."
   ]
  },
  {
   "cell_type": "code",
   "execution_count": 7,
   "metadata": {},
   "outputs": [
    {
     "data": {
      "text/plain": [
       "\n",
       "\tBox-Ljung test\n",
       "\n",
       "data:  residuals(licences_fit)\n",
       "X-squared = 3.5354, df = 10, p-value = 0.9659\n"
      ]
     },
     "metadata": {},
     "output_type": "display_data"
    },
    {
     "name": "stdout",
     "output_type": "stream",
     "text": [
      "[1] \"Nie ma podstaw do odrzucenia hipotezy zerowej o niezależności danych, gdyż p-value znacznie przekracza przyjęty poziom istotności 5%.\"\n"
     ]
    }
   ],
   "source": [
    "Box.test(residuals(licences_fit), lag=10, type=\"Ljung\")\n",
    "print(\"Nie ma podstaw do odrzucenia hipotezy zerowej o niezależności danych, gdyż p-value znacznie przekracza przyjęty poziom istotności 5%.\")"
   ]
  },
  {
   "cell_type": "markdown",
   "metadata": {},
   "source": [
    "Dokonano prognozy wartości na następne 12 lat (w ujęciu miesięcznym)."
   ]
  },
  {
   "cell_type": "code",
   "execution_count": 8,
   "metadata": {},
   "outputs": [
    {
     "data": {
      "image/png": "[encoded data removed]",
      "text/plain": [
       "Plot with title \"Forecasts from ARIMA(4,2,3)\""
      ]
     },
     "metadata": {},
     "output_type": "display_data"
    }
   ],
   "source": [
    "licences_forecast = forecast(licences_fit, h = 144)\n",
    "plot(licences_forecast)"
   ]
  },
  {
   "cell_type": "markdown",
   "metadata": {},
   "source": [
    "Zebrano wartności roczne (ze stycznia)."
   ]
  },
  {
   "cell_type": "code",
   "execution_count": 9,
   "metadata": {},
   "outputs": [
    {
     "data": {
      "text/html": [
       "<table>\n",
       "<thead><tr><th scope=col>years</th><th scope=col>mean</th><th scope=col>upper</th><th scope=col>lower</th><th scope=col>Typ</th></tr></thead>\n",
       "<tbody>\n",
       "\t<tr><td>2005       </td><td> 7219.000  </td><td>       NA  </td><td>         NA</td><td>historyczne</td></tr>\n",
       "\t<tr><td>2006       </td><td> 7133.000  </td><td>       NA  </td><td>         NA</td><td>historyczne</td></tr>\n",
       "\t<tr><td>2007       </td><td> 5280.000  </td><td>       NA  </td><td>         NA</td><td>historyczne</td></tr>\n",
       "\t<tr><td>2008       </td><td> 5370.000  </td><td>       NA  </td><td>         NA</td><td>historyczne</td></tr>\n",
       "\t<tr><td>2009       </td><td> 5186.000  </td><td>       NA  </td><td>         NA</td><td>historyczne</td></tr>\n",
       "\t<tr><td>2010       </td><td> 4434.000  </td><td>       NA  </td><td>         NA</td><td>historyczne</td></tr>\n",
       "\t<tr><td>2011       </td><td> 3510.000  </td><td>       NA  </td><td>         NA</td><td>historyczne</td></tr>\n",
       "\t<tr><td>2012       </td><td> 3655.000  </td><td>       NA  </td><td>         NA</td><td>historyczne</td></tr>\n",
       "\t<tr><td>2013       </td><td> 3480.000  </td><td>       NA  </td><td>         NA</td><td>historyczne</td></tr>\n",
       "\t<tr><td>2014       </td><td> 4202.000  </td><td>       NA  </td><td>         NA</td><td>historyczne</td></tr>\n",
       "\t<tr><td>2015       </td><td> 4480.000  </td><td>       NA  </td><td>         NA</td><td>historyczne</td></tr>\n",
       "\t<tr><td>2016       </td><td> 4779.000  </td><td>       NA  </td><td>         NA</td><td>historyczne</td></tr>\n",
       "\t<tr><td>2017       </td><td> 5033.000  </td><td>       NA  </td><td>         NA</td><td>historyczne</td></tr>\n",
       "\t<tr><td>2018       </td><td> 5487.000  </td><td>       NA  </td><td>         NA</td><td>historyczne</td></tr>\n",
       "\t<tr><td>2018       </td><td> 5487.000  </td><td> 5487.000  </td><td>  5487.0000</td><td>prognoza   </td></tr>\n",
       "\t<tr><td>2019       </td><td> 6422.669  </td><td> 6423.862  </td><td>  6421.4756</td><td>prognoza   </td></tr>\n",
       "\t<tr><td>2020       </td><td> 7902.120  </td><td> 8592.587  </td><td>  7211.6523</td><td>prognoza   </td></tr>\n",
       "\t<tr><td>2021       </td><td> 9415.398  </td><td>12553.061  </td><td>  6277.7363</td><td>prognoza   </td></tr>\n",
       "\t<tr><td>2022       </td><td>10848.488  </td><td>17331.611  </td><td>  4365.3655</td><td>prognoza   </td></tr>\n",
       "\t<tr><td>2023       </td><td>12300.312  </td><td>22611.929  </td><td>  1988.6957</td><td>prognoza   </td></tr>\n",
       "\t<tr><td>2024       </td><td>13758.721  </td><td>28425.361  </td><td>  -907.9194</td><td>prognoza   </td></tr>\n",
       "\t<tr><td>2025       </td><td>15212.329  </td><td>34727.566  </td><td> -4302.9070</td><td>prognoza   </td></tr>\n",
       "\t<tr><td>2026       </td><td>16666.368  </td><td>41464.946  </td><td> -8132.2105</td><td>prognoza   </td></tr>\n",
       "\t<tr><td>2027       </td><td>18121.006  </td><td>48605.803  </td><td>-12363.7909</td><td>prognoza   </td></tr>\n",
       "\t<tr><td>2028       </td><td>19575.401  </td><td>56124.378  </td><td>-16973.5769</td><td>prognoza   </td></tr>\n",
       "\t<tr><td>2029       </td><td>21029.777  </td><td>63998.259  </td><td>-21938.7055</td><td>prognoza   </td></tr>\n",
       "\t<tr><td>2030       </td><td>22484.195  </td><td>72208.846  </td><td>-27240.4555</td><td>prognoza   </td></tr>\n",
       "</tbody>\n",
       "</table>\n"
      ],
      "text/latex": [
       "\\begin{tabular}{r|lllll}\n",
       " years & mean & upper & lower & Typ\\\\\n",
       "\\hline\n",
       "\t 2005        &  7219.000   &        NA   &          NA & historyczne\\\\\n",
       "\t 2006        &  7133.000   &        NA   &          NA & historyczne\\\\\n",
       "\t 2007        &  5280.000   &        NA   &          NA & historyczne\\\\\n",
       "\t 2008        &  5370.000   &        NA   &          NA & historyczne\\\\\n",
       "\t 2009        &  5186.000   &        NA   &          NA & historyczne\\\\\n",
       "\t 2010        &  4434.000   &        NA   &          NA & historyczne\\\\\n",
       "\t 2011        &  3510.000   &        NA   &          NA & historyczne\\\\\n",
       "\t 2012        &  3655.000   &        NA   &          NA & historyczne\\\\\n",
       "\t 2013        &  3480.000   &        NA   &          NA & historyczne\\\\\n",
       "\t 2014        &  4202.000   &        NA   &          NA & historyczne\\\\\n",
       "\t 2015        &  4480.000   &        NA   &          NA & historyczne\\\\\n",
       "\t 2016        &  4779.000   &        NA   &          NA & historyczne\\\\\n",
       "\t 2017        &  5033.000   &        NA   &          NA & historyczne\\\\\n",
       "\t 2018        &  5487.000   &        NA   &          NA & historyczne\\\\\n",
       "\t 2018        &  5487.000   &  5487.000   &   5487.0000 & prognoza   \\\\\n",
       "\t 2019        &  6422.669   &  6423.862   &   6421.4756 & prognoza   \\\\\n",
       "\t 2020        &  7902.120   &  8592.587   &   7211.6523 & prognoza   \\\\\n",
       "\t 2021        &  9415.398   & 12553.061   &   6277.7363 & prognoza   \\\\\n",
       "\t 2022        & 10848.488   & 17331.611   &   4365.3655 & prognoza   \\\\\n",
       "\t 2023        & 12300.312   & 22611.929   &   1988.6957 & prognoza   \\\\\n",
       "\t 2024        & 13758.721   & 28425.361   &   -907.9194 & prognoza   \\\\\n",
       "\t 2025        & 15212.329   & 34727.566   &  -4302.9070 & prognoza   \\\\\n",
       "\t 2026        & 16666.368   & 41464.946   &  -8132.2105 & prognoza   \\\\\n",
       "\t 2027        & 18121.006   & 48605.803   & -12363.7909 & prognoza   \\\\\n",
       "\t 2028        & 19575.401   & 56124.378   & -16973.5769 & prognoza   \\\\\n",
       "\t 2029        & 21029.777   & 63998.259   & -21938.7055 & prognoza   \\\\\n",
       "\t 2030        & 22484.195   & 72208.846   & -27240.4555 & prognoza   \\\\\n",
       "\\end{tabular}\n"
      ],
      "text/markdown": [
       "\n",
       "| years | mean | upper | lower | Typ |\n",
       "|---|---|---|---|---|\n",
       "| 2005        |  7219.000   |        NA   |          NA | historyczne |\n",
       "| 2006        |  7133.000   |        NA   |          NA | historyczne |\n",
       "| 2007        |  5280.000   |        NA   |          NA | historyczne |\n",
       "| 2008        |  5370.000   |        NA   |          NA | historyczne |\n",
       "| 2009        |  5186.000   |        NA   |          NA | historyczne |\n",
       "| 2010        |  4434.000   |        NA   |          NA | historyczne |\n",
       "| 2011        |  3510.000   |        NA   |          NA | historyczne |\n",
       "| 2012        |  3655.000   |        NA   |          NA | historyczne |\n",
       "| 2013        |  3480.000   |        NA   |          NA | historyczne |\n",
       "| 2014        |  4202.000   |        NA   |          NA | historyczne |\n",
       "| 2015        |  4480.000   |        NA   |          NA | historyczne |\n",
       "| 2016        |  4779.000   |        NA   |          NA | historyczne |\n",
       "| 2017        |  5033.000   |        NA   |          NA | historyczne |\n",
       "| 2018        |  5487.000   |        NA   |          NA | historyczne |\n",
       "| 2018        |  5487.000   |  5487.000   |   5487.0000 | prognoza    |\n",
       "| 2019        |  6422.669   |  6423.862   |   6421.4756 | prognoza    |\n",
       "| 2020        |  7902.120   |  8592.587   |   7211.6523 | prognoza    |\n",
       "| 2021        |  9415.398   | 12553.061   |   6277.7363 | prognoza    |\n",
       "| 2022        | 10848.488   | 17331.611   |   4365.3655 | prognoza    |\n",
       "| 2023        | 12300.312   | 22611.929   |   1988.6957 | prognoza    |\n",
       "| 2024        | 13758.721   | 28425.361   |   -907.9194 | prognoza    |\n",
       "| 2025        | 15212.329   | 34727.566   |  -4302.9070 | prognoza    |\n",
       "| 2026        | 16666.368   | 41464.946   |  -8132.2105 | prognoza    |\n",
       "| 2027        | 18121.006   | 48605.803   | -12363.7909 | prognoza    |\n",
       "| 2028        | 19575.401   | 56124.378   | -16973.5769 | prognoza    |\n",
       "| 2029        | 21029.777   | 63998.259   | -21938.7055 | prognoza    |\n",
       "| 2030        | 22484.195   | 72208.846   | -27240.4555 | prognoza    |\n",
       "\n"
      ],
      "text/plain": [
       "   years mean      upper     lower       Typ        \n",
       "1  2005   7219.000        NA          NA historyczne\n",
       "2  2006   7133.000        NA          NA historyczne\n",
       "3  2007   5280.000        NA          NA historyczne\n",
       "4  2008   5370.000        NA          NA historyczne\n",
       "5  2009   5186.000        NA          NA historyczne\n",
       "6  2010   4434.000        NA          NA historyczne\n",
       "7  2011   3510.000        NA          NA historyczne\n",
       "8  2012   3655.000        NA          NA historyczne\n",
       "9  2013   3480.000        NA          NA historyczne\n",
       "10 2014   4202.000        NA          NA historyczne\n",
       "11 2015   4480.000        NA          NA historyczne\n",
       "12 2016   4779.000        NA          NA historyczne\n",
       "13 2017   5033.000        NA          NA historyczne\n",
       "14 2018   5487.000        NA          NA historyczne\n",
       "15 2018   5487.000  5487.000   5487.0000 prognoza   \n",
       "16 2019   6422.669  6423.862   6421.4756 prognoza   \n",
       "17 2020   7902.120  8592.587   7211.6523 prognoza   \n",
       "18 2021   9415.398 12553.061   6277.7363 prognoza   \n",
       "19 2022  10848.488 17331.611   4365.3655 prognoza   \n",
       "20 2023  12300.312 22611.929   1988.6957 prognoza   \n",
       "21 2024  13758.721 28425.361   -907.9194 prognoza   \n",
       "22 2025  15212.329 34727.566  -4302.9070 prognoza   \n",
       "23 2026  16666.368 41464.946  -8132.2105 prognoza   \n",
       "24 2027  18121.006 48605.803 -12363.7909 prognoza   \n",
       "25 2028  19575.401 56124.378 -16973.5769 prognoza   \n",
       "26 2029  21029.777 63998.259 -21938.7055 prognoza   \n",
       "27 2030  22484.195 72208.846 -27240.4555 prognoza   "
      ]
     },
     "metadata": {},
     "output_type": "display_data"
    }
   ],
   "source": [
    "licences$date <- 2005:2018\n",
    "licences$upper <- NA\n",
    "licences$lower <- NA\n",
    "licences$type <- \"historyczne\"\n",
    "\n",
    "names(licences) <- c('years', 'mean', 'upper', 'lower', 'Typ')\n",
    "\n",
    "licences_forcast <- data.frame(2018:2030, append(5487, licences_forecast$mean[c(1,13,25,37,49,61,73,85,97,109,121,133)]), append(5487, licences_forecast$upper[c(1,13,25,37,49,61,73,85,97,109,121,133)]), append(5487, licences_forecast$lower[c(1,13,25,37,49,61,73,85,97,109,121,133)]), \"prognoza\")\n",
    "\n",
    "names(licences_forcast) <- c('years', 'mean', 'upper', 'lower', 'Typ')\n",
    "\n",
    "inflow <- rbind(licences, licences_forcast)\n",
    "\n",
    "inflow"
   ]
  },
  {
   "cell_type": "code",
   "execution_count": 10,
   "metadata": {},
   "outputs": [],
   "source": [
    "inflow[inflow$years >= 2024,]$lower <- 0"
   ]
  },
  {
   "cell_type": "code",
   "execution_count": 11,
   "metadata": {},
   "outputs": [
    {
     "name": "stderr",
     "output_type": "stream",
     "text": [
      "Warning message in max(ids, na.rm = TRUE):\n",
      "\"brak argumentów w max; zwracanie wartości -Inf\""
     ]
    },
    {
     "data": {
      "image/png": "[encoded data removed]",
      "text/plain": [
       "plot without title"
      ]
     },
     "metadata": {},
     "output_type": "display_data"
    }
   ],
   "source": [
    "ggplot(inflow, aes(years, mean, color = Typ)) +\n",
    "    geom_line() +\n",
    "    geom_ribbon(aes(ymin= lower, ymax= upper), linetype=2, alpha=0.1) +\n",
    "    theme_minimal() +\n",
    "    xlab(\"Lata\") +\n",
    "    ylab(\"Liczba\") +\n",
    "    theme_minimal()"
   ]
  },
  {
   "cell_type": "code",
   "execution_count": 12,
   "metadata": {},
   "outputs": [],
   "source": [
    "forecast_mean <- licences_forecast$mean[c(1,13,25,37,49,61,73,85,97,109,121,133)]\n",
    "forecast_upper <- licences_forecast$upper[c(1,13,25,37,49,61,73,85,97,109,121,133)]\n",
    "forecast_lower <- licences_forecast$lower[c(1,13,25,37,49,61,73,85,97,109,121,133)]"
   ]
  },
  {
   "cell_type": "markdown",
   "metadata": {},
   "source": [
    "# CZĘSĆ DRUGA - PROGNOZA LICZBY PIELĘGNIAREK I POŁOŻNYCH W SKALI KRAJU"
   ]
  },
  {
   "cell_type": "markdown",
   "metadata": {},
   "source": [
    "## Określenie struktury wiekowej pielęgniarek i położnych w wieku produkcyjnym na podstawie danych "
   ]
  },
  {
   "cell_type": "markdown",
   "metadata": {},
   "source": [
    "Wczytano dane o strukturze wiekowej pielęgniarek i położnych z roku 2018, stworzono z nich długą ramkę danych, dokonano ich czyszczenia i wizualizacji."
   ]
  },
  {
   "cell_type": "code",
   "execution_count": 13,
   "metadata": {},
   "outputs": [
    {
     "data": {
      "text/html": [
       "<ol class=list-inline>\n",
       "\t<li>'profession'</li>\n",
       "\t<li>'X88'</li>\n",
       "\t<li>'X87'</li>\n",
       "\t<li>'X86'</li>\n",
       "\t<li>'X85'</li>\n",
       "\t<li>'X84'</li>\n",
       "\t<li>'X83'</li>\n",
       "\t<li>'X82'</li>\n",
       "\t<li>'X81'</li>\n",
       "\t<li>'X80'</li>\n",
       "\t<li>'X79'</li>\n",
       "\t<li>'X78'</li>\n",
       "\t<li>'X77'</li>\n",
       "\t<li>'X76'</li>\n",
       "\t<li>'X75'</li>\n",
       "\t<li>'X74'</li>\n",
       "\t<li>'X73'</li>\n",
       "\t<li>'X72'</li>\n",
       "\t<li>'X71'</li>\n",
       "\t<li>'X70'</li>\n",
       "\t<li>'X69'</li>\n",
       "\t<li>'X68'</li>\n",
       "\t<li>'X67'</li>\n",
       "\t<li>'X66'</li>\n",
       "\t<li>'X65'</li>\n",
       "\t<li>'X64'</li>\n",
       "\t<li>'X63'</li>\n",
       "\t<li>'X62'</li>\n",
       "\t<li>'X61'</li>\n",
       "\t<li>'X60'</li>\n",
       "\t<li>'X59'</li>\n",
       "\t<li>'X58'</li>\n",
       "\t<li>'X57'</li>\n",
       "\t<li>'X56'</li>\n",
       "\t<li>'X55'</li>\n",
       "\t<li>'X54'</li>\n",
       "\t<li>'X53'</li>\n",
       "\t<li>'X52'</li>\n",
       "\t<li>'X51'</li>\n",
       "\t<li>'X50'</li>\n",
       "\t<li>'X49'</li>\n",
       "\t<li>'X48'</li>\n",
       "\t<li>'X47'</li>\n",
       "\t<li>'X46'</li>\n",
       "\t<li>'X45'</li>\n",
       "\t<li>'X44'</li>\n",
       "\t<li>'X43'</li>\n",
       "\t<li>'X42'</li>\n",
       "\t<li>'X41'</li>\n",
       "\t<li>'X40'</li>\n",
       "\t<li>'X39'</li>\n",
       "\t<li>'X38'</li>\n",
       "\t<li>'X37'</li>\n",
       "\t<li>'X36'</li>\n",
       "\t<li>'X35'</li>\n",
       "\t<li>'X34'</li>\n",
       "\t<li>'X33'</li>\n",
       "\t<li>'X32'</li>\n",
       "\t<li>'X31'</li>\n",
       "\t<li>'X30'</li>\n",
       "\t<li>'X29'</li>\n",
       "\t<li>'X28'</li>\n",
       "\t<li>'X27'</li>\n",
       "\t<li>'X26'</li>\n",
       "\t<li>'X25'</li>\n",
       "\t<li>'X24'</li>\n",
       "\t<li>'X23'</li>\n",
       "\t<li>'X22'</li>\n",
       "\t<li>'X21'</li>\n",
       "</ol>\n"
      ],
      "text/latex": [
       "\\begin{enumerate*}\n",
       "\\item 'profession'\n",
       "\\item 'X88'\n",
       "\\item 'X87'\n",
       "\\item 'X86'\n",
       "\\item 'X85'\n",
       "\\item 'X84'\n",
       "\\item 'X83'\n",
       "\\item 'X82'\n",
       "\\item 'X81'\n",
       "\\item 'X80'\n",
       "\\item 'X79'\n",
       "\\item 'X78'\n",
       "\\item 'X77'\n",
       "\\item 'X76'\n",
       "\\item 'X75'\n",
       "\\item 'X74'\n",
       "\\item 'X73'\n",
       "\\item 'X72'\n",
       "\\item 'X71'\n",
       "\\item 'X70'\n",
       "\\item 'X69'\n",
       "\\item 'X68'\n",
       "\\item 'X67'\n",
       "\\item 'X66'\n",
       "\\item 'X65'\n",
       "\\item 'X64'\n",
       "\\item 'X63'\n",
       "\\item 'X62'\n",
       "\\item 'X61'\n",
       "\\item 'X60'\n",
       "\\item 'X59'\n",
       "\\item 'X58'\n",
       "\\item 'X57'\n",
       "\\item 'X56'\n",
       "\\item 'X55'\n",
       "\\item 'X54'\n",
       "\\item 'X53'\n",
       "\\item 'X52'\n",
       "\\item 'X51'\n",
       "\\item 'X50'\n",
       "\\item 'X49'\n",
       "\\item 'X48'\n",
       "\\item 'X47'\n",
       "\\item 'X46'\n",
       "\\item 'X45'\n",
       "\\item 'X44'\n",
       "\\item 'X43'\n",
       "\\item 'X42'\n",
       "\\item 'X41'\n",
       "\\item 'X40'\n",
       "\\item 'X39'\n",
       "\\item 'X38'\n",
       "\\item 'X37'\n",
       "\\item 'X36'\n",
       "\\item 'X35'\n",
       "\\item 'X34'\n",
       "\\item 'X33'\n",
       "\\item 'X32'\n",
       "\\item 'X31'\n",
       "\\item 'X30'\n",
       "\\item 'X29'\n",
       "\\item 'X28'\n",
       "\\item 'X27'\n",
       "\\item 'X26'\n",
       "\\item 'X25'\n",
       "\\item 'X24'\n",
       "\\item 'X23'\n",
       "\\item 'X22'\n",
       "\\item 'X21'\n",
       "\\end{enumerate*}\n"
      ],
      "text/markdown": [
       "1. 'profession'\n",
       "2. 'X88'\n",
       "3. 'X87'\n",
       "4. 'X86'\n",
       "5. 'X85'\n",
       "6. 'X84'\n",
       "7. 'X83'\n",
       "8. 'X82'\n",
       "9. 'X81'\n",
       "10. 'X80'\n",
       "11. 'X79'\n",
       "12. 'X78'\n",
       "13. 'X77'\n",
       "14. 'X76'\n",
       "15. 'X75'\n",
       "16. 'X74'\n",
       "17. 'X73'\n",
       "18. 'X72'\n",
       "19. 'X71'\n",
       "20. 'X70'\n",
       "21. 'X69'\n",
       "22. 'X68'\n",
       "23. 'X67'\n",
       "24. 'X66'\n",
       "25. 'X65'\n",
       "26. 'X64'\n",
       "27. 'X63'\n",
       "28. 'X62'\n",
       "29. 'X61'\n",
       "30. 'X60'\n",
       "31. 'X59'\n",
       "32. 'X58'\n",
       "33. 'X57'\n",
       "34. 'X56'\n",
       "35. 'X55'\n",
       "36. 'X54'\n",
       "37. 'X53'\n",
       "38. 'X52'\n",
       "39. 'X51'\n",
       "40. 'X50'\n",
       "41. 'X49'\n",
       "42. 'X48'\n",
       "43. 'X47'\n",
       "44. 'X46'\n",
       "45. 'X45'\n",
       "46. 'X44'\n",
       "47. 'X43'\n",
       "48. 'X42'\n",
       "49. 'X41'\n",
       "50. 'X40'\n",
       "51. 'X39'\n",
       "52. 'X38'\n",
       "53. 'X37'\n",
       "54. 'X36'\n",
       "55. 'X35'\n",
       "56. 'X34'\n",
       "57. 'X33'\n",
       "58. 'X32'\n",
       "59. 'X31'\n",
       "60. 'X30'\n",
       "61. 'X29'\n",
       "62. 'X28'\n",
       "63. 'X27'\n",
       "64. 'X26'\n",
       "65. 'X25'\n",
       "66. 'X24'\n",
       "67. 'X23'\n",
       "68. 'X22'\n",
       "69. 'X21'\n",
       "\n",
       "\n"
      ],
      "text/plain": [
       " [1] \"profession\" \"X88\"        \"X87\"        \"X86\"        \"X85\"       \n",
       " [6] \"X84\"        \"X83\"        \"X82\"        \"X81\"        \"X80\"       \n",
       "[11] \"X79\"        \"X78\"        \"X77\"        \"X76\"        \"X75\"       \n",
       "[16] \"X74\"        \"X73\"        \"X72\"        \"X71\"        \"X70\"       \n",
       "[21] \"X69\"        \"X68\"        \"X67\"        \"X66\"        \"X65\"       \n",
       "[26] \"X64\"        \"X63\"        \"X62\"        \"X61\"        \"X60\"       \n",
       "[31] \"X59\"        \"X58\"        \"X57\"        \"X56\"        \"X55\"       \n",
       "[36] \"X54\"        \"X53\"        \"X52\"        \"X51\"        \"X50\"       \n",
       "[41] \"X49\"        \"X48\"        \"X47\"        \"X46\"        \"X45\"       \n",
       "[46] \"X44\"        \"X43\"        \"X42\"        \"X41\"        \"X40\"       \n",
       "[51] \"X39\"        \"X38\"        \"X37\"        \"X36\"        \"X35\"       \n",
       "[56] \"X34\"        \"X33\"        \"X32\"        \"X31\"        \"X30\"       \n",
       "[61] \"X29\"        \"X28\"        \"X27\"        \"X26\"        \"X25\"       \n",
       "[66] \"X24\"        \"X23\"        \"X22\"        \"X21\"       "
      ]
     },
     "metadata": {},
     "output_type": "display_data"
    },
    {
     "data": {
      "text/plain": [
       "   profession      age            number      \n",
       " midwife:68   Min.   :21.00   Min.   :   0.0  \n",
       " nurse  :68   1st Qu.:37.75   1st Qu.: 187.8  \n",
       "              Median :54.50   Median : 610.5  \n",
       "              Mean   :54.50   Mean   :1874.3  \n",
       "              3rd Qu.:71.25   3rd Qu.:1675.0  \n",
       "              Max.   :88.00   Max.   :9064.0  "
      ]
     },
     "metadata": {},
     "output_type": "display_data"
    },
    {
     "data": {
      "text/html": [
       "0.178070960047704"
      ],
      "text/latex": [
       "0.178070960047704"
      ],
      "text/markdown": [
       "0.178070960047704"
      ],
      "text/plain": [
       "[1] 0.178071"
      ]
     },
     "metadata": {},
     "output_type": "display_data"
    },
    {
     "data": {
      "image/png": "[encoded data removed]",
      "text/plain": [
       "plot without title"
      ]
     },
     "metadata": {},
     "output_type": "display_data"
    }
   ],
   "source": [
    "nurses <- read.csv2(\"data2018.csv\")\n",
    "names(nurses)\n",
    "names(nurses) <- c(\"profession\", \"88\":\"21\")\n",
    "nurses <- gather(nurses, 'age', 'number',  -profession)\n",
    "nurses$age <- as.numeric(nurses$age)\n",
    "summary(nurses)\n",
    "\n",
    "\n",
    "nurses_plot <- nurses\n",
    "nurses_plot[nurses_plot$profession == 'midwife',]$number <- nurses_plot[nurses_plot$profession == 'midwife',]$number*(-1)\n",
    "\n",
    "ggplot(nurses_plot, aes(x = age, y = number, fill = profession)) +\n",
    "  geom_bar(stat=\"identity\", position=\"identity\")+\n",
    "geom_vline(xintercept = 60) +\n",
    "xlab(\"Wiek\") +\n",
    "ylab(\"Liczba\") +\n",
    "scale_fill_discrete(name = \"Zawód\", labels = c(\"położna\", \"pielęgniarka\")) +\n",
    "coord_flip() +\n",
    "theme_minimal()\n",
    "\n",
    "sum(nurses[nurses$age > '60',]$number)/sum(nurses$number)"
   ]
  },
  {
   "cell_type": "markdown",
   "metadata": {},
   "source": [
    "Zagregowano dane dla pielęgniarek i położnych."
   ]
  },
  {
   "cell_type": "code",
   "execution_count": 14,
   "metadata": {},
   "outputs": [
    {
     "data": {
      "image/png": "[encoded data removed]",
      "text/plain": [
       "plot without title"
      ]
     },
     "metadata": {},
     "output_type": "display_data"
    },
    {
     "data": {
      "image/png": "[encoded data removed]",
      "text/plain": [
       "plot without title"
      ]
     },
     "metadata": {},
     "output_type": "display_data"
    }
   ],
   "source": [
    "number <- data.frame(2006:2018, c(199700, 203849, 204586, 207892, 206941, 208867, 236006, 223420, 221569, 245625, 248111, 252426, 255805))\n",
    "names(number) <- c('years', 'count')\n",
    "plot(number)\n",
    "\n",
    "ggplot(number, aes(years, count)) +\n",
    "geom_point() +\n",
    "geom_line() +\n",
    "xlab(\"Lata\") +\n",
    "ylab(\"Liczba\") +\n",
    "theme_minimal()"
   ]
  },
  {
   "cell_type": "code",
   "execution_count": 15,
   "metadata": {},
   "outputs": [
    {
     "data": {
      "text/html": [
       "<table>\n",
       "<thead><tr><th scope=col>age</th><th scope=col>number</th></tr></thead>\n",
       "<tbody>\n",
       "\t<tr><td>21  </td><td>  17</td></tr>\n",
       "\t<tr><td>22  </td><td> 864</td></tr>\n",
       "\t<tr><td>23  </td><td>1654</td></tr>\n",
       "\t<tr><td>24  </td><td>1892</td></tr>\n",
       "\t<tr><td>25  </td><td>1905</td></tr>\n",
       "\t<tr><td>26  </td><td>2056</td></tr>\n",
       "</tbody>\n",
       "</table>\n"
      ],
      "text/latex": [
       "\\begin{tabular}{r|ll}\n",
       " age & number\\\\\n",
       "\\hline\n",
       "\t 21   &   17\\\\\n",
       "\t 22   &  864\\\\\n",
       "\t 23   & 1654\\\\\n",
       "\t 24   & 1892\\\\\n",
       "\t 25   & 1905\\\\\n",
       "\t 26   & 2056\\\\\n",
       "\\end{tabular}\n"
      ],
      "text/markdown": [
       "\n",
       "| age | number |\n",
       "|---|---|\n",
       "| 21   |   17 |\n",
       "| 22   |  864 |\n",
       "| 23   | 1654 |\n",
       "| 24   | 1892 |\n",
       "| 25   | 1905 |\n",
       "| 26   | 2056 |\n",
       "\n"
      ],
      "text/plain": [
       "  age number\n",
       "1 21    17  \n",
       "2 22   864  \n",
       "3 23  1654  \n",
       "4 24  1892  \n",
       "5 25  1905  \n",
       "6 26  2056  "
      ]
     },
     "metadata": {},
     "output_type": "display_data"
    }
   ],
   "source": [
    "nurses_1 <- aggregate(nurses$number, by = list(nurses$age), FUN = sum)\n",
    "colnames(nurses_1) <- c('age', 'number')\n",
    "head(nurses_1)"
   ]
  },
  {
   "cell_type": "markdown",
   "metadata": {},
   "source": [
    "Wczytano tablice trwania życia"
   ]
  },
  {
   "cell_type": "code",
   "execution_count": 16,
   "metadata": {},
   "outputs": [],
   "source": [
    "life_table <- read.csv2(\"life_table.csv\")"
   ]
  },
  {
   "cell_type": "code",
   "execution_count": 17,
   "metadata": {},
   "outputs": [],
   "source": [
    "life_table$death_prop_100k <- as.numeric(life_table$death_prop_100k)\n",
    "life_table$death_prop <- life_table$death_prop_100k/100000\n",
    "life_table$death_prop_100k <- NULL"
   ]
  },
  {
   "cell_type": "code",
   "execution_count": 18,
   "metadata": {},
   "outputs": [
    {
     "data": {
      "text/html": [
       "<ol class=list-inline>\n",
       "\t<li>0.00353</li>\n",
       "\t<li>2e-04</li>\n",
       "\t<li>0.00016</li>\n",
       "\t<li>0.00012</li>\n",
       "\t<li>1e-04</li>\n",
       "\t<li>8e-05</li>\n",
       "</ol>\n"
      ],
      "text/latex": [
       "\\begin{enumerate*}\n",
       "\\item 0.00353\n",
       "\\item 2e-04\n",
       "\\item 0.00016\n",
       "\\item 0.00012\n",
       "\\item 1e-04\n",
       "\\item 8e-05\n",
       "\\end{enumerate*}\n"
      ],
      "text/markdown": [
       "1. 0.00353\n",
       "2. 2e-04\n",
       "3. 0.00016\n",
       "4. 0.00012\n",
       "5. 1e-04\n",
       "6. 8e-05\n",
       "\n",
       "\n"
      ],
      "text/plain": [
       "[1] 0.00353 0.00020 0.00016 0.00012 0.00010 0.00008"
      ]
     },
     "metadata": {},
     "output_type": "display_data"
    }
   ],
   "source": [
    "head(life_table$death_prop)"
   ]
  },
  {
   "cell_type": "markdown",
   "metadata": {},
   "source": [
    "Przypisano prawdopodobieństwo zgonu w danym roku dla danego wieku."
   ]
  },
  {
   "cell_type": "code",
   "execution_count": 19,
   "metadata": {},
   "outputs": [
    {
     "data": {
      "text/html": [
       "<table>\n",
       "<thead><tr><th scope=col>age</th><th scope=col>death_prop</th><th scope=col>number</th></tr></thead>\n",
       "<tbody>\n",
       "\t<tr><td>21     </td><td>0.00027</td><td>  17   </td></tr>\n",
       "\t<tr><td>22     </td><td>0.00025</td><td> 864   </td></tr>\n",
       "\t<tr><td>23     </td><td>0.00024</td><td>1654   </td></tr>\n",
       "\t<tr><td>24     </td><td>0.00023</td><td>1892   </td></tr>\n",
       "\t<tr><td>25     </td><td>0.00025</td><td>1905   </td></tr>\n",
       "\t<tr><td>26     </td><td>0.00026</td><td>2056   </td></tr>\n",
       "</tbody>\n",
       "</table>\n"
      ],
      "text/latex": [
       "\\begin{tabular}{r|lll}\n",
       " age & death\\_prop & number\\\\\n",
       "\\hline\n",
       "\t 21      & 0.00027 &   17   \\\\\n",
       "\t 22      & 0.00025 &  864   \\\\\n",
       "\t 23      & 0.00024 & 1654   \\\\\n",
       "\t 24      & 0.00023 & 1892   \\\\\n",
       "\t 25      & 0.00025 & 1905   \\\\\n",
       "\t 26      & 0.00026 & 2056   \\\\\n",
       "\\end{tabular}\n"
      ],
      "text/markdown": [
       "\n",
       "| age | death_prop | number |\n",
       "|---|---|---|\n",
       "| 21      | 0.00027 |   17    |\n",
       "| 22      | 0.00025 |  864    |\n",
       "| 23      | 0.00024 | 1654    |\n",
       "| 24      | 0.00023 | 1892    |\n",
       "| 25      | 0.00025 | 1905    |\n",
       "| 26      | 0.00026 | 2056    |\n",
       "\n"
      ],
      "text/plain": [
       "  age death_prop number\n",
       "1 21  0.00027      17  \n",
       "2 22  0.00025     864  \n",
       "3 23  0.00024    1654  \n",
       "4 24  0.00023    1892  \n",
       "5 25  0.00025    1905  \n",
       "6 26  0.00026    2056  "
      ]
     },
     "metadata": {},
     "output_type": "display_data"
    },
    {
     "data": {
      "text/html": [
       "<table>\n",
       "<thead><tr><th scope=col>age</th><th scope=col>death_prop</th><th scope=col>number</th></tr></thead>\n",
       "<tbody>\n",
       "\t<tr><td>21     </td><td>0.00027</td><td>  17   </td></tr>\n",
       "\t<tr><td>22     </td><td>0.00025</td><td> 864   </td></tr>\n",
       "\t<tr><td>23     </td><td>0.00024</td><td>1654   </td></tr>\n",
       "\t<tr><td>24     </td><td>0.00023</td><td>1892   </td></tr>\n",
       "\t<tr><td>25     </td><td>0.00025</td><td>1905   </td></tr>\n",
       "\t<tr><td>26     </td><td>0.00026</td><td>2056   </td></tr>\n",
       "</tbody>\n",
       "</table>\n"
      ],
      "text/latex": [
       "\\begin{tabular}{r|lll}\n",
       " age & death\\_prop & number\\\\\n",
       "\\hline\n",
       "\t 21      & 0.00027 &   17   \\\\\n",
       "\t 22      & 0.00025 &  864   \\\\\n",
       "\t 23      & 0.00024 & 1654   \\\\\n",
       "\t 24      & 0.00023 & 1892   \\\\\n",
       "\t 25      & 0.00025 & 1905   \\\\\n",
       "\t 26      & 0.00026 & 2056   \\\\\n",
       "\\end{tabular}\n"
      ],
      "text/markdown": [
       "\n",
       "| age | death_prop | number |\n",
       "|---|---|---|\n",
       "| 21      | 0.00027 |   17    |\n",
       "| 22      | 0.00025 |  864    |\n",
       "| 23      | 0.00024 | 1654    |\n",
       "| 24      | 0.00023 | 1892    |\n",
       "| 25      | 0.00025 | 1905    |\n",
       "| 26      | 0.00026 | 2056    |\n",
       "\n"
      ],
      "text/plain": [
       "  age death_prop number\n",
       "1 21  0.00027      17  \n",
       "2 22  0.00025     864  \n",
       "3 23  0.00024    1654  \n",
       "4 24  0.00023    1892  \n",
       "5 25  0.00025    1905  \n",
       "6 26  0.00026    2056  "
      ]
     },
     "metadata": {},
     "output_type": "display_data"
    }
   ],
   "source": [
    "nurses_mean <- merge(x = life_table, y = nurses_1, by = 'age')\n",
    "nurses_upper <- merge(x = life_table, y = nurses_1, by = 'age')\n",
    "nurses_lower <- merge(x = life_table, y = nurses_1, by = 'age')\n",
    "\n",
    "head(nurses_mean)\n",
    "head(nurses_upper)\n"
   ]
  },
  {
   "cell_type": "markdown",
   "metadata": {},
   "source": [
    "Funkcja pozwalająca przewidzieć liczbę pielęgniarek i położnych w n-tym roku."
   ]
  },
  {
   "cell_type": "code",
   "execution_count": 20,
   "metadata": {},
   "outputs": [],
   "source": [
    "mortality <- function(df, new, n) {\n",
    "  x = df\n",
    "  a = 1\n",
    "  while (a <= n) {\n",
    "    x$number <- round(x$number * (1-x$death_prop), 0)\n",
    "    x[x$age == 60, 'number'] <- round(x[x$age == 60, 'number'] * (1-0.15),0)\n",
    "    x[x$age == 61, 'number'] <- round(x[x$age == 61, 'number'] * (1-0.15),0)\n",
    "    x[x$age == 62, 'number'] <- round(x[x$age == 62, 'number'] * (1-0.15),0)\n",
    "    x[x$age == 63, 'number'] <- round(x[x$age == 63, 'number'] * (1-0.15),0)\n",
    "    x[x$age == 64, 'number'] <- round(x[x$age == 64, 'number'] * (1-0.15),0)\n",
    "    x[x$age == 65, 'number'] <- round(x[x$age == 65, 'number'] * (1-0.15),0)\n",
    "    x[x$age == 66, 'number'] <- round(x[x$age == 66, 'number'] * (1-0.15),0)\n",
    "    x[x$age == 67, 'number'] <- round(x[x$age == 67, 'number'] * (1-0.15),0)\n",
    "    x[x$age == 68, 'number'] <- round(x[x$age == 68, 'number'] * (1-0.15),0)\n",
    "    x[x$age == 69, 'number'] <- round(x[x$age == 69, 'number'] * (1-0.15),0)\n",
    "    x[x$age == 70, 'number'] <- round(x[x$age == 70, 'number'] * (1-0.15),0)\n",
    "    x[x$age == 71, 'number'] <- round(x[x$age == 71, 'number'] * (1-0.15),0)\n",
    "    x[x$age == 72, 'number'] <- round(x[x$age == 72, 'number'] * (1-0.15),0)\n",
    "    x[x$age == 73, 'number'] <- round(x[x$age == 73, 'number'] * (1-0.15),0)\n",
    "    x[x$age == 74, 'number'] <- round(x[x$age == 74, 'number'] * (1-0.15),0)\n",
    "    x[x$age == 75, 'number'] <- round(x[x$age == 75, 'number'] * (1-0.15),0)\n",
    "    x[x$age == 76, 'number'] <- round(x[x$age == 76, 'number'] * (1-0.15),0)\n",
    "    x[x$age == 77, 'number'] <- round(x[x$age == 77, 'number'] * (1-0.15),0)\n",
    "    x[x$age == 78, 'number'] <- round(x[x$age == 78, 'number'] * (1-0.15),0)\n",
    "    x[x$age == 79, 'number'] <- round(x[x$age == 79, 'number'] * (1-0.15),0)\n",
    "    x[x$age == 80, 'number'] <- round(x[x$age == 80, 'number'] * (1-0.15),0)\n",
    "    x[x$age == 81, 'number'] <- round(x[x$age == 81, 'number'] * (1-0.15),0)\n",
    "    x[x$age == 82, 'number'] <- round(x[x$age == 82, 'number'] * (1-0.15),0)\n",
    "    x[x$age == 83, 'number'] <- round(x[x$age == 83, 'number'] * (1-0.15),0)\n",
    "    x[x$age == 84, 'number'] <- round(x[x$age == 84, 'number'] * (1-0.15),0)\n",
    "    x[x$age == 85, 'number'] <- round(x[x$age == 85, 'number'] * (1-0.15),0)\n",
    "    x[x$age == 86, 'number'] <- round(x[x$age == 86, 'number'] * (1-0.15),0)\n",
    "    x[x$age == 87, 'number'] <- round(x[x$age == 87, 'number'] * (1-0.15),0)\n",
    "    x[x$age == 88, 'number'] <- round(x[x$age == 88, 'number'] * (1-0.15),0)\n",
    "    x$number <- lag(x$number, n = 1L)\n",
    "    x[1,3] <- round(new[a] * rate[1],0)\n",
    "    x[2,3] <- x[2,3] + round(new[a] * rate[2],0)\n",
    "    x[3,3] <- x[3,3] + round(new[a] * rate[3],0)\n",
    "    x[4,3] <- x[4,3] + round(new[a] * rate[4],0)\n",
    "    x[5,3] <- x[5,3] + round(new[a] * rate[5],0)\n",
    "    x[6,3] <- x[6,3] + round(new[a] * rate[6],0)\n",
    "    x[7,3] <- x[7,3] + round(new[a] * rate[7],0)\n",
    "    x[8,3] <- x[8,3] + round(new[a] * rate[8],0)\n",
    "    x[9,3] <- x[9,3] + round(new[a] * rate[9],0)\n",
    "    x[10,3] <- x[10,3] + round(new[a] * rate[10],0)\n",
    "    a = a +1\n",
    "  }\n",
    "  return(x$number)\n",
    "}"
   ]
  },
  {
   "cell_type": "markdown",
   "metadata": {},
   "source": [
    "Zdecydowano o podziale liczby nowych licencji na 10 grup w wieku 20-29 lat zgodnie z rozkładem normalnym."
   ]
  },
  {
   "cell_type": "code",
   "execution_count": 21,
   "metadata": {},
   "outputs": [],
   "source": [
    "rate <- c(0.004, 0.019, 0.068, 0.161, 0.248, 0.249, 0.161, 0.068, 0.019, 0.004)"
   ]
  },
  {
   "cell_type": "markdown",
   "metadata": {},
   "source": [
    "Założono, że jedynie połowa osób, które uzyskały prawo wykonywania zawodu pielęgniareki i położnej podejmie w nim pracę."
   ]
  },
  {
   "cell_type": "code",
   "execution_count": 22,
   "metadata": {},
   "outputs": [],
   "source": [
    "forecast_zero <- rep(0, 12)\n",
    "nurses_zero <- nurses_mean\n",
    "\n",
    "for (i in 1:length(forecast_zero)) {\n",
    "  a <- mortality(nurses_zero, forecast_zero, i)\n",
    "  nurses_zero <- cbind(nurses_zero, a)\n",
    "  names(nurses_zero)[ncol(nurses_zero)] <- i\n",
    "}\n",
    "\n",
    "nurses_zero <- c( \n",
    "  sum(nurses_zero$'1'),\n",
    "  sum(nurses_zero$'2'),\n",
    "  sum(nurses_zero$'3'),\n",
    "  sum(nurses_zero$'4'),\n",
    "  sum(nurses_zero$'5'),\n",
    "  sum(nurses_zero$'6'),\n",
    "  sum(nurses_zero$'7'),\n",
    "  sum(nurses_zero$'8'),\n",
    "  sum(nurses_zero$'9'),\n",
    "  sum(nurses_zero$'10'),\n",
    "  sum(nurses_zero$'11'),\n",
    "  sum(nurses_zero$'12')\n",
    ")"
   ]
  },
  {
   "cell_type": "code",
   "execution_count": 23,
   "metadata": {},
   "outputs": [
    {
     "data": {
      "image/png": "[encoded data removed]",
      "text/plain": [
       "plot without title"
      ]
     },
     "metadata": {},
     "output_type": "display_data"
    }
   ],
   "source": [
    "outflows <- data.frame(2018:2030, append(255805,(nurses_zero )), NA, NA, \"odpływy\")\n",
    "names(outflows) <- c('years', 'mean', 'upper', 'lower', 'Typ')\n",
    "outflows$lag <- lag(outflows$mean)\n",
    "outflows$mean <- outflows$lag - outflows$mean\n",
    "outflows$lag <- NULL\n",
    "\n",
    "\n",
    "outflows <-  filter(outflows, outflows$years > 2018)\n",
    "\n",
    "ggplot(outflows, aes(years, mean, color = Typ)) +\n",
    "    geom_line() +\n",
    "    theme_minimal() +\n",
    "    xlab(\"Lata\") +\n",
    "    ylab(\"Liczba\") +\n",
    "    theme_minimal()"
   ]
  },
  {
   "cell_type": "code",
   "execution_count": 24,
   "metadata": {},
   "outputs": [
    {
     "data": {
      "text/html": [
       "<table>\n",
       "<thead><tr><th scope=col>years</th><th scope=col>mean</th><th scope=col>upper</th><th scope=col>lower</th><th scope=col>Typ</th></tr></thead>\n",
       "<tbody>\n",
       "\t<tr><td>2005       </td><td> 7219.000  </td><td>       NA  </td><td>      NA   </td><td>historyczne</td></tr>\n",
       "\t<tr><td>2006       </td><td> 7133.000  </td><td>       NA  </td><td>      NA   </td><td>historyczne</td></tr>\n",
       "\t<tr><td>2007       </td><td> 5280.000  </td><td>       NA  </td><td>      NA   </td><td>historyczne</td></tr>\n",
       "\t<tr><td>2008       </td><td> 5370.000  </td><td>       NA  </td><td>      NA   </td><td>historyczne</td></tr>\n",
       "\t<tr><td>2009       </td><td> 5186.000  </td><td>       NA  </td><td>      NA   </td><td>historyczne</td></tr>\n",
       "\t<tr><td>2010       </td><td> 4434.000  </td><td>       NA  </td><td>      NA   </td><td>historyczne</td></tr>\n",
       "\t<tr><td>2011       </td><td> 3510.000  </td><td>       NA  </td><td>      NA   </td><td>historyczne</td></tr>\n",
       "\t<tr><td>2012       </td><td> 3655.000  </td><td>       NA  </td><td>      NA   </td><td>historyczne</td></tr>\n",
       "\t<tr><td>2013       </td><td> 3480.000  </td><td>       NA  </td><td>      NA   </td><td>historyczne</td></tr>\n",
       "\t<tr><td>2014       </td><td> 4202.000  </td><td>       NA  </td><td>      NA   </td><td>historyczne</td></tr>\n",
       "\t<tr><td>2015       </td><td> 4480.000  </td><td>       NA  </td><td>      NA   </td><td>historyczne</td></tr>\n",
       "\t<tr><td>2016       </td><td> 4779.000  </td><td>       NA  </td><td>      NA   </td><td>historyczne</td></tr>\n",
       "\t<tr><td>2017       </td><td> 5033.000  </td><td>       NA  </td><td>      NA   </td><td>historyczne</td></tr>\n",
       "\t<tr><td>2018       </td><td> 5487.000  </td><td>       NA  </td><td>      NA   </td><td>historyczne</td></tr>\n",
       "\t<tr><td>2018       </td><td> 5487.000  </td><td> 5487.000  </td><td>5487.000   </td><td>prognoza   </td></tr>\n",
       "\t<tr><td>2019       </td><td> 6422.669  </td><td> 6423.862  </td><td>6421.476   </td><td>prognoza   </td></tr>\n",
       "\t<tr><td>2020       </td><td> 7902.120  </td><td> 8592.587  </td><td>7211.652   </td><td>prognoza   </td></tr>\n",
       "\t<tr><td>2021       </td><td> 9415.398  </td><td>12553.061  </td><td>6277.736   </td><td>prognoza   </td></tr>\n",
       "\t<tr><td>2022       </td><td>10848.488  </td><td>17331.611  </td><td>4365.366   </td><td>prognoza   </td></tr>\n",
       "\t<tr><td>2023       </td><td>12300.312  </td><td>22611.929  </td><td>1988.696   </td><td>prognoza   </td></tr>\n",
       "\t<tr><td>2024       </td><td>13758.721  </td><td>28425.361  </td><td>   0.000   </td><td>prognoza   </td></tr>\n",
       "\t<tr><td>2025       </td><td>15212.329  </td><td>34727.566  </td><td>   0.000   </td><td>prognoza   </td></tr>\n",
       "\t<tr><td>2026       </td><td>16666.368  </td><td>41464.946  </td><td>   0.000   </td><td>prognoza   </td></tr>\n",
       "\t<tr><td>2027       </td><td>18121.006  </td><td>48605.803  </td><td>   0.000   </td><td>prognoza   </td></tr>\n",
       "\t<tr><td>2028       </td><td>19575.401  </td><td>56124.378  </td><td>   0.000   </td><td>prognoza   </td></tr>\n",
       "\t<tr><td>2029       </td><td>21029.777  </td><td>63998.259  </td><td>   0.000   </td><td>prognoza   </td></tr>\n",
       "\t<tr><td>2030       </td><td>22484.195  </td><td>72208.846  </td><td>   0.000   </td><td>prognoza   </td></tr>\n",
       "</tbody>\n",
       "</table>\n"
      ],
      "text/latex": [
       "\\begin{tabular}{r|lllll}\n",
       " years & mean & upper & lower & Typ\\\\\n",
       "\\hline\n",
       "\t 2005        &  7219.000   &        NA   &       NA    & historyczne\\\\\n",
       "\t 2006        &  7133.000   &        NA   &       NA    & historyczne\\\\\n",
       "\t 2007        &  5280.000   &        NA   &       NA    & historyczne\\\\\n",
       "\t 2008        &  5370.000   &        NA   &       NA    & historyczne\\\\\n",
       "\t 2009        &  5186.000   &        NA   &       NA    & historyczne\\\\\n",
       "\t 2010        &  4434.000   &        NA   &       NA    & historyczne\\\\\n",
       "\t 2011        &  3510.000   &        NA   &       NA    & historyczne\\\\\n",
       "\t 2012        &  3655.000   &        NA   &       NA    & historyczne\\\\\n",
       "\t 2013        &  3480.000   &        NA   &       NA    & historyczne\\\\\n",
       "\t 2014        &  4202.000   &        NA   &       NA    & historyczne\\\\\n",
       "\t 2015        &  4480.000   &        NA   &       NA    & historyczne\\\\\n",
       "\t 2016        &  4779.000   &        NA   &       NA    & historyczne\\\\\n",
       "\t 2017        &  5033.000   &        NA   &       NA    & historyczne\\\\\n",
       "\t 2018        &  5487.000   &        NA   &       NA    & historyczne\\\\\n",
       "\t 2018        &  5487.000   &  5487.000   & 5487.000    & prognoza   \\\\\n",
       "\t 2019        &  6422.669   &  6423.862   & 6421.476    & prognoza   \\\\\n",
       "\t 2020        &  7902.120   &  8592.587   & 7211.652    & prognoza   \\\\\n",
       "\t 2021        &  9415.398   & 12553.061   & 6277.736    & prognoza   \\\\\n",
       "\t 2022        & 10848.488   & 17331.611   & 4365.366    & prognoza   \\\\\n",
       "\t 2023        & 12300.312   & 22611.929   & 1988.696    & prognoza   \\\\\n",
       "\t 2024        & 13758.721   & 28425.361   &    0.000    & prognoza   \\\\\n",
       "\t 2025        & 15212.329   & 34727.566   &    0.000    & prognoza   \\\\\n",
       "\t 2026        & 16666.368   & 41464.946   &    0.000    & prognoza   \\\\\n",
       "\t 2027        & 18121.006   & 48605.803   &    0.000    & prognoza   \\\\\n",
       "\t 2028        & 19575.401   & 56124.378   &    0.000    & prognoza   \\\\\n",
       "\t 2029        & 21029.777   & 63998.259   &    0.000    & prognoza   \\\\\n",
       "\t 2030        & 22484.195   & 72208.846   &    0.000    & prognoza   \\\\\n",
       "\\end{tabular}\n"
      ],
      "text/markdown": [
       "\n",
       "| years | mean | upper | lower | Typ |\n",
       "|---|---|---|---|---|\n",
       "| 2005        |  7219.000   |        NA   |       NA    | historyczne |\n",
       "| 2006        |  7133.000   |        NA   |       NA    | historyczne |\n",
       "| 2007        |  5280.000   |        NA   |       NA    | historyczne |\n",
       "| 2008        |  5370.000   |        NA   |       NA    | historyczne |\n",
       "| 2009        |  5186.000   |        NA   |       NA    | historyczne |\n",
       "| 2010        |  4434.000   |        NA   |       NA    | historyczne |\n",
       "| 2011        |  3510.000   |        NA   |       NA    | historyczne |\n",
       "| 2012        |  3655.000   |        NA   |       NA    | historyczne |\n",
       "| 2013        |  3480.000   |        NA   |       NA    | historyczne |\n",
       "| 2014        |  4202.000   |        NA   |       NA    | historyczne |\n",
       "| 2015        |  4480.000   |        NA   |       NA    | historyczne |\n",
       "| 2016        |  4779.000   |        NA   |       NA    | historyczne |\n",
       "| 2017        |  5033.000   |        NA   |       NA    | historyczne |\n",
       "| 2018        |  5487.000   |        NA   |       NA    | historyczne |\n",
       "| 2018        |  5487.000   |  5487.000   | 5487.000    | prognoza    |\n",
       "| 2019        |  6422.669   |  6423.862   | 6421.476    | prognoza    |\n",
       "| 2020        |  7902.120   |  8592.587   | 7211.652    | prognoza    |\n",
       "| 2021        |  9415.398   | 12553.061   | 6277.736    | prognoza    |\n",
       "| 2022        | 10848.488   | 17331.611   | 4365.366    | prognoza    |\n",
       "| 2023        | 12300.312   | 22611.929   | 1988.696    | prognoza    |\n",
       "| 2024        | 13758.721   | 28425.361   |    0.000    | prognoza    |\n",
       "| 2025        | 15212.329   | 34727.566   |    0.000    | prognoza    |\n",
       "| 2026        | 16666.368   | 41464.946   |    0.000    | prognoza    |\n",
       "| 2027        | 18121.006   | 48605.803   |    0.000    | prognoza    |\n",
       "| 2028        | 19575.401   | 56124.378   |    0.000    | prognoza    |\n",
       "| 2029        | 21029.777   | 63998.259   |    0.000    | prognoza    |\n",
       "| 2030        | 22484.195   | 72208.846   |    0.000    | prognoza    |\n",
       "\n"
      ],
      "text/plain": [
       "   years mean      upper     lower    Typ        \n",
       "1  2005   7219.000        NA       NA historyczne\n",
       "2  2006   7133.000        NA       NA historyczne\n",
       "3  2007   5280.000        NA       NA historyczne\n",
       "4  2008   5370.000        NA       NA historyczne\n",
       "5  2009   5186.000        NA       NA historyczne\n",
       "6  2010   4434.000        NA       NA historyczne\n",
       "7  2011   3510.000        NA       NA historyczne\n",
       "8  2012   3655.000        NA       NA historyczne\n",
       "9  2013   3480.000        NA       NA historyczne\n",
       "10 2014   4202.000        NA       NA historyczne\n",
       "11 2015   4480.000        NA       NA historyczne\n",
       "12 2016   4779.000        NA       NA historyczne\n",
       "13 2017   5033.000        NA       NA historyczne\n",
       "14 2018   5487.000        NA       NA historyczne\n",
       "15 2018   5487.000  5487.000 5487.000 prognoza   \n",
       "16 2019   6422.669  6423.862 6421.476 prognoza   \n",
       "17 2020   7902.120  8592.587 7211.652 prognoza   \n",
       "18 2021   9415.398 12553.061 6277.736 prognoza   \n",
       "19 2022  10848.488 17331.611 4365.366 prognoza   \n",
       "20 2023  12300.312 22611.929 1988.696 prognoza   \n",
       "21 2024  13758.721 28425.361    0.000 prognoza   \n",
       "22 2025  15212.329 34727.566    0.000 prognoza   \n",
       "23 2026  16666.368 41464.946    0.000 prognoza   \n",
       "24 2027  18121.006 48605.803    0.000 prognoza   \n",
       "25 2028  19575.401 56124.378    0.000 prognoza   \n",
       "26 2029  21029.777 63998.259    0.000 prognoza   \n",
       "27 2030  22484.195 72208.846    0.000 prognoza   "
      ]
     },
     "metadata": {},
     "output_type": "display_data"
    }
   ],
   "source": [
    "inflow"
   ]
  },
  {
   "cell_type": "code",
   "execution_count": 25,
   "metadata": {},
   "outputs": [],
   "source": [
    "inflow <- filter(inflow, inflow$years > 2018)"
   ]
  },
  {
   "cell_type": "code",
   "execution_count": 26,
   "metadata": {},
   "outputs": [],
   "source": [
    "inflow$mean <- inflow$mean*0.5"
   ]
  },
  {
   "cell_type": "code",
   "execution_count": 27,
   "metadata": {},
   "outputs": [],
   "source": [
    "inflow$upper <- inflow$upper*0.5"
   ]
  },
  {
   "cell_type": "code",
   "execution_count": 28,
   "metadata": {},
   "outputs": [],
   "source": [
    "inflow$lower <- inflow$lower*0.5"
   ]
  },
  {
   "cell_type": "code",
   "execution_count": 29,
   "metadata": {},
   "outputs": [],
   "source": [
    "inflow$Typ <- \"dopływ\""
   ]
  },
  {
   "cell_type": "code",
   "execution_count": 30,
   "metadata": {},
   "outputs": [
    {
     "data": {
      "text/html": [
       "<table>\n",
       "<thead><tr><th scope=col>years</th><th scope=col>mean</th><th scope=col>upper</th><th scope=col>lower</th><th scope=col>Typ</th></tr></thead>\n",
       "<tbody>\n",
       "\t<tr><td>2019     </td><td> 3211.334</td><td> 3211.931</td><td>3210.7378</td><td>dopływ   </td></tr>\n",
       "\t<tr><td>2020     </td><td> 3951.060</td><td> 4296.294</td><td>3605.8261</td><td>dopływ   </td></tr>\n",
       "\t<tr><td>2021     </td><td> 4707.699</td><td> 6276.530</td><td>3138.8681</td><td>dopływ   </td></tr>\n",
       "\t<tr><td>2022     </td><td> 5424.244</td><td> 8665.805</td><td>2182.6828</td><td>dopływ   </td></tr>\n",
       "\t<tr><td>2023     </td><td> 6150.156</td><td>11305.964</td><td> 994.3478</td><td>dopływ   </td></tr>\n",
       "\t<tr><td>2024     </td><td> 6879.361</td><td>14212.681</td><td>   0.0000</td><td>dopływ   </td></tr>\n",
       "\t<tr><td>2025     </td><td> 7606.165</td><td>17363.783</td><td>   0.0000</td><td>dopływ   </td></tr>\n",
       "\t<tr><td>2026     </td><td> 8333.184</td><td>20732.473</td><td>   0.0000</td><td>dopływ   </td></tr>\n",
       "\t<tr><td>2027     </td><td> 9060.503</td><td>24302.901</td><td>   0.0000</td><td>dopływ   </td></tr>\n",
       "\t<tr><td>2028     </td><td> 9787.700</td><td>28062.189</td><td>   0.0000</td><td>dopływ   </td></tr>\n",
       "\t<tr><td>2029     </td><td>10514.888</td><td>31999.129</td><td>   0.0000</td><td>dopływ   </td></tr>\n",
       "\t<tr><td>2030     </td><td>11242.098</td><td>36104.423</td><td>   0.0000</td><td>dopływ   </td></tr>\n",
       "</tbody>\n",
       "</table>\n"
      ],
      "text/latex": [
       "\\begin{tabular}{r|lllll}\n",
       " years & mean & upper & lower & Typ\\\\\n",
       "\\hline\n",
       "\t 2019      &  3211.334 &  3211.931 & 3210.7378 & dopływ   \\\\\n",
       "\t 2020      &  3951.060 &  4296.294 & 3605.8261 & dopływ   \\\\\n",
       "\t 2021      &  4707.699 &  6276.530 & 3138.8681 & dopływ   \\\\\n",
       "\t 2022      &  5424.244 &  8665.805 & 2182.6828 & dopływ   \\\\\n",
       "\t 2023      &  6150.156 & 11305.964 &  994.3478 & dopływ   \\\\\n",
       "\t 2024      &  6879.361 & 14212.681 &    0.0000 & dopływ   \\\\\n",
       "\t 2025      &  7606.165 & 17363.783 &    0.0000 & dopływ   \\\\\n",
       "\t 2026      &  8333.184 & 20732.473 &    0.0000 & dopływ   \\\\\n",
       "\t 2027      &  9060.503 & 24302.901 &    0.0000 & dopływ   \\\\\n",
       "\t 2028      &  9787.700 & 28062.189 &    0.0000 & dopływ   \\\\\n",
       "\t 2029      & 10514.888 & 31999.129 &    0.0000 & dopływ   \\\\\n",
       "\t 2030      & 11242.098 & 36104.423 &    0.0000 & dopływ   \\\\\n",
       "\\end{tabular}\n"
      ],
      "text/markdown": [
       "\n",
       "| years | mean | upper | lower | Typ |\n",
       "|---|---|---|---|---|\n",
       "| 2019      |  3211.334 |  3211.931 | 3210.7378 | dopływ    |\n",
       "| 2020      |  3951.060 |  4296.294 | 3605.8261 | dopływ    |\n",
       "| 2021      |  4707.699 |  6276.530 | 3138.8681 | dopływ    |\n",
       "| 2022      |  5424.244 |  8665.805 | 2182.6828 | dopływ    |\n",
       "| 2023      |  6150.156 | 11305.964 |  994.3478 | dopływ    |\n",
       "| 2024      |  6879.361 | 14212.681 |    0.0000 | dopływ    |\n",
       "| 2025      |  7606.165 | 17363.783 |    0.0000 | dopływ    |\n",
       "| 2026      |  8333.184 | 20732.473 |    0.0000 | dopływ    |\n",
       "| 2027      |  9060.503 | 24302.901 |    0.0000 | dopływ    |\n",
       "| 2028      |  9787.700 | 28062.189 |    0.0000 | dopływ    |\n",
       "| 2029      | 10514.888 | 31999.129 |    0.0000 | dopływ    |\n",
       "| 2030      | 11242.098 | 36104.423 |    0.0000 | dopływ    |\n",
       "\n"
      ],
      "text/plain": [
       "   years mean      upper     lower     Typ   \n",
       "1  2019   3211.334  3211.931 3210.7378 dopływ\n",
       "2  2020   3951.060  4296.294 3605.8261 dopływ\n",
       "3  2021   4707.699  6276.530 3138.8681 dopływ\n",
       "4  2022   5424.244  8665.805 2182.6828 dopływ\n",
       "5  2023   6150.156 11305.964  994.3478 dopływ\n",
       "6  2024   6879.361 14212.681    0.0000 dopływ\n",
       "7  2025   7606.165 17363.783    0.0000 dopływ\n",
       "8  2026   8333.184 20732.473    0.0000 dopływ\n",
       "9  2027   9060.503 24302.901    0.0000 dopływ\n",
       "10 2028   9787.700 28062.189    0.0000 dopływ\n",
       "11 2029  10514.888 31999.129    0.0000 dopływ\n",
       "12 2030  11242.098 36104.423    0.0000 dopływ"
      ]
     },
     "metadata": {},
     "output_type": "display_data"
    }
   ],
   "source": [
    "inflow"
   ]
  },
  {
   "cell_type": "code",
   "execution_count": 31,
   "metadata": {},
   "outputs": [
    {
     "name": "stderr",
     "output_type": "stream",
     "text": [
      "Warning message in max(ids, na.rm = TRUE):\n",
      "\"brak argumentów w max; zwracanie wartości -Inf\""
     ]
    },
    {
     "data": {
      "image/png": "[encoded data removed]",
      "text/plain": [
       "plot without title"
      ]
     },
     "metadata": {},
     "output_type": "display_data"
    }
   ],
   "source": [
    "streams <- rbind(outflows, inflow)\n",
    "\n",
    "ggplot(streams, aes(years, mean, color = Typ)) +\n",
    "    geom_line() +\n",
    "    geom_ribbon(aes(ymin= lower, ymax= upper), linetype=2, alpha=0.1) +\n",
    "    theme_minimal() +\n",
    "    xlab(\"Lata\") +\n",
    "    ylab(\"Liczba\") +\n",
    "    theme_minimal()"
   ]
  },
  {
   "cell_type": "code",
   "execution_count": 32,
   "metadata": {},
   "outputs": [],
   "source": [
    "forecast_mean_1 <- round(forecast_mean * 0.5, 0)\n",
    "forecast_upper_1 <- round(forecast_upper * 0.5, 0)\n",
    "forecast_lower_1 <- round(forecast_lower * 0.5, 0)"
   ]
  },
  {
   "cell_type": "markdown",
   "metadata": {},
   "source": [
    "Dokonano prognozy liczby pielęgniarek i położnych w skali kraju."
   ]
  },
  {
   "cell_type": "code",
   "execution_count": 33,
   "metadata": {},
   "outputs": [],
   "source": [
    "for (i in 1:length(forecast_mean_1)) {\n",
    "  a <- mortality(nurses_mean, forecast_mean_1, i)\n",
    "  nurses_mean <- cbind(nurses_mean, a)\n",
    "  names(nurses_mean)[ncol(nurses_mean)] <- i\n",
    "}\n",
    "\n",
    "mean_number <- c( \n",
    "  sum(nurses_mean$'1'),\n",
    "  sum(nurses_mean$'2'),\n",
    "  sum(nurses_mean$'3'),\n",
    "  sum(nurses_mean$'4'),\n",
    "  sum(nurses_mean$'5'),\n",
    "  sum(nurses_mean$'6'),\n",
    "  sum(nurses_mean$'7'),\n",
    "  sum(nurses_mean$'8'),\n",
    "  sum(nurses_mean$'9'),\n",
    "  sum(nurses_mean$'10'),\n",
    "  sum(nurses_mean$'11'),\n",
    "  sum(nurses_mean$'12')\n",
    ")"
   ]
  },
  {
   "cell_type": "code",
   "execution_count": 34,
   "metadata": {},
   "outputs": [
    {
     "data": {
      "text/html": [
       "<ol class=list-inline>\n",
       "\t<li>249056</li>\n",
       "\t<li>243878</li>\n",
       "\t<li>239419</li>\n",
       "\t<li>235698</li>\n",
       "\t<li>232719</li>\n",
       "\t<li>230518</li>\n",
       "\t<li>228961</li>\n",
       "\t<li>228081</li>\n",
       "\t<li>227941</li>\n",
       "\t<li>228535</li>\n",
       "\t<li>229801</li>\n",
       "\t<li>231714</li>\n",
       "</ol>\n"
      ],
      "text/latex": [
       "\\begin{enumerate*}\n",
       "\\item 249056\n",
       "\\item 243878\n",
       "\\item 239419\n",
       "\\item 235698\n",
       "\\item 232719\n",
       "\\item 230518\n",
       "\\item 228961\n",
       "\\item 228081\n",
       "\\item 227941\n",
       "\\item 228535\n",
       "\\item 229801\n",
       "\\item 231714\n",
       "\\end{enumerate*}\n"
      ],
      "text/markdown": [
       "1. 249056\n",
       "2. 243878\n",
       "3. 239419\n",
       "4. 235698\n",
       "5. 232719\n",
       "6. 230518\n",
       "7. 228961\n",
       "8. 228081\n",
       "9. 227941\n",
       "10. 228535\n",
       "11. 229801\n",
       "12. 231714\n",
       "\n",
       "\n"
      ],
      "text/plain": [
       " [1] 249056 243878 239419 235698 232719 230518 228961 228081 227941 228535\n",
       "[11] 229801 231714"
      ]
     },
     "metadata": {},
     "output_type": "display_data"
    }
   ],
   "source": [
    "mean_number\n",
    "\n",
    "mean_number <- append(255805, mean_number)"
   ]
  },
  {
   "cell_type": "code",
   "execution_count": 35,
   "metadata": {},
   "outputs": [],
   "source": [
    "for (i in 1:length(forecast_upper_1)) {\n",
    "  a <- mortality(nurses_upper, forecast_upper_1, i)\n",
    "  nurses_upper <- cbind(nurses_upper, a)\n",
    "  names(nurses_upper)[ncol(nurses_upper)] <- i\n",
    "}\n",
    "\n",
    "upper_number <- c( \n",
    "  sum(nurses_upper$'1'),\n",
    "  sum(nurses_upper$'2'),\n",
    "  sum(nurses_upper$'3'),\n",
    "  sum(nurses_upper$'4'),\n",
    "  sum(nurses_upper$'5'),\n",
    "  sum(nurses_upper$'6'),\n",
    "  sum(nurses_upper$'7'),\n",
    "  sum(nurses_upper$'8'),\n",
    "  sum(nurses_upper$'9'),\n",
    "  sum(nurses_upper$'10'),\n",
    "  sum(nurses_upper$'11'),\n",
    "  sum(nurses_upper$'12')\n",
    ")"
   ]
  },
  {
   "cell_type": "code",
   "execution_count": 36,
   "metadata": {},
   "outputs": [
    {
     "data": {
      "text/html": [
       "<ol class=list-inline>\n",
       "\t<li>249057</li>\n",
       "\t<li>244224</li>\n",
       "\t<li>241337</li>\n",
       "\t<li>240861</li>\n",
       "\t<li>243041</li>\n",
       "\t<li>248174</li>\n",
       "\t<li>256381</li>\n",
       "\t<li>267905</li>\n",
       "\t<li>283013</li>\n",
       "\t<li>301882</li>\n",
       "\t<li>324630</li>\n",
       "\t<li>351400</li>\n",
       "</ol>\n"
      ],
      "text/latex": [
       "\\begin{enumerate*}\n",
       "\\item 249057\n",
       "\\item 244224\n",
       "\\item 241337\n",
       "\\item 240861\n",
       "\\item 243041\n",
       "\\item 248174\n",
       "\\item 256381\n",
       "\\item 267905\n",
       "\\item 283013\n",
       "\\item 301882\n",
       "\\item 324630\n",
       "\\item 351400\n",
       "\\end{enumerate*}\n"
      ],
      "text/markdown": [
       "1. 249057\n",
       "2. 244224\n",
       "3. 241337\n",
       "4. 240861\n",
       "5. 243041\n",
       "6. 248174\n",
       "7. 256381\n",
       "8. 267905\n",
       "9. 283013\n",
       "10. 301882\n",
       "11. 324630\n",
       "12. 351400\n",
       "\n",
       "\n"
      ],
      "text/plain": [
       " [1] 249057 244224 241337 240861 243041 248174 256381 267905 283013 301882\n",
       "[11] 324630 351400"
      ]
     },
     "metadata": {},
     "output_type": "display_data"
    }
   ],
   "source": [
    "upper_number\n",
    "\n",
    "upper_number <- append(255805, upper_number)"
   ]
  },
  {
   "cell_type": "code",
   "execution_count": 37,
   "metadata": {},
   "outputs": [],
   "source": [
    "forecast_lower <- licences_forecast$lower[c(1,13,25,37,49,61,73,85,97,109,121,133)]"
   ]
  },
  {
   "cell_type": "code",
   "execution_count": 38,
   "metadata": {},
   "outputs": [],
   "source": [
    "for (i in 1:length(forecast_lower_1)) {\n",
    "  a <- mortality(nurses_lower, forecast_lower_1, i)\n",
    "  nurses_lower <- cbind(nurses_lower, a)\n",
    "  names(nurses_lower)[ncol(nurses_lower)] <- i\n",
    "}\n",
    "\n",
    "lower_number <- c( \n",
    "  sum(nurses_lower$'1'),\n",
    "  sum(nurses_lower$'2'),\n",
    "  sum(nurses_lower$'3'),\n",
    "  sum(nurses_lower$'4'),\n",
    "  sum(nurses_lower$'5'),\n",
    "  sum(nurses_lower$'6'),\n",
    "  sum(nurses_lower$'7'),\n",
    "  sum(nurses_lower$'8'),\n",
    "  sum(nurses_lower$'9'),\n",
    "  sum(nurses_lower$'10'),\n",
    "  sum(nurses_lower$'11'),\n",
    "  sum(nurses_lower$'12')\n",
    ")"
   ]
  },
  {
   "cell_type": "code",
   "execution_count": 39,
   "metadata": {},
   "outputs": [
    {
     "data": {
      "text/html": [
       "<ol class=list-inline>\n",
       "\t<li>249056</li>\n",
       "\t<li>243532</li>\n",
       "\t<li>237503</li>\n",
       "\t<li>230535</li>\n",
       "\t<li>222398</li>\n",
       "\t<li>212856</li>\n",
       "\t<li>201538</li>\n",
       "\t<li>188257</li>\n",
       "\t<li>172873</li>\n",
       "\t<li>155192</li>\n",
       "\t<li>134972</li>\n",
       "\t<li>112027</li>\n",
       "</ol>\n"
      ],
      "text/latex": [
       "\\begin{enumerate*}\n",
       "\\item 249056\n",
       "\\item 243532\n",
       "\\item 237503\n",
       "\\item 230535\n",
       "\\item 222398\n",
       "\\item 212856\n",
       "\\item 201538\n",
       "\\item 188257\n",
       "\\item 172873\n",
       "\\item 155192\n",
       "\\item 134972\n",
       "\\item 112027\n",
       "\\end{enumerate*}\n"
      ],
      "text/markdown": [
       "1. 249056\n",
       "2. 243532\n",
       "3. 237503\n",
       "4. 230535\n",
       "5. 222398\n",
       "6. 212856\n",
       "7. 201538\n",
       "8. 188257\n",
       "9. 172873\n",
       "10. 155192\n",
       "11. 134972\n",
       "12. 112027\n",
       "\n",
       "\n"
      ],
      "text/plain": [
       " [1] 249056 243532 237503 230535 222398 212856 201538 188257 172873 155192\n",
       "[11] 134972 112027"
      ]
     },
     "metadata": {},
     "output_type": "display_data"
    }
   ],
   "source": [
    "lower_number\n",
    "\n",
    "lower_number <- append(255805, lower_number)"
   ]
  },
  {
   "cell_type": "markdown",
   "metadata": {},
   "source": [
    "Dokonano wizualizacji danych."
   ]
  },
  {
   "cell_type": "code",
   "execution_count": 40,
   "metadata": {},
   "outputs": [
    {
     "name": "stderr",
     "output_type": "stream",
     "text": [
      "Warning message in max(ids, na.rm = TRUE):\n",
      "\"brak argumentów w max; zwracanie wartości -Inf\""
     ]
    },
    {
     "data": {
      "image/png": "[encoded data removed]",
      "text/plain": [
       "plot without title"
      ]
     },
     "metadata": {},
     "output_type": "display_data"
    }
   ],
   "source": [
    "h <- data.frame(2006:2018, c(199700, 203849, 204586, 207892, 206941, 208867, 236006, 223420, 221569, 245625, 248111, 252426, 255805),NA,NA,'historyczne')\n",
    "names(h) <- c('years', 'mean', 'lower', 'upper', 'Typ')\n",
    "f <- data.frame(2018:2030, mean_number, lower_number, upper_number, 'prognoza')\n",
    "names(f) <- c('years', 'mean', 'lower', 'upper', 'Typ')\n",
    "\n",
    "to_plot <- rbind(h, f)\n",
    "\n",
    "ggplot(to_plot, aes(years, mean, color = Typ)) +\n",
    "    geom_line() +\n",
    "    geom_ribbon(aes(ymin= lower, ymax= upper), linetype=2, alpha=0.1) +\n",
    "    theme_minimal() +\n",
    "    xlab(\"Lata\") +\n",
    "    ylab(\"Liczba\") +\n",
    "    theme_minimal()\n",
    "    "
   ]
  }
 ],
 "metadata": {
  "kernelspec": {
   "display_name": "R",
   "language": "R",
   "name": "ir"
  },
  "language_info": {
   "codemirror_mode": "r",
   "file_extension": ".r",
   "mimetype": "text/x-r-source",
   "name": "R",
   "pygments_lexer": "r",
   "version": "3.6.1"
  }
 },
 "nbformat": 4,
 "nbformat_minor": 4
}
